{
 "cells": [
  {
   "cell_type": "code",
   "execution_count": 11,
   "metadata": {},
   "outputs": [],
   "source": [
    "%matplotlib inline\n",
    "from citipy import citipy\n",
    "import json\n",
    "import requests\n",
    "from config import apikey\n",
    "import pandas as pd\n",
    "import matplotlib.pyplot as plt"
   ]
  },
  {
   "cell_type": "code",
   "execution_count": 45,
   "metadata": {},
   "outputs": [
    {
     "data": {
      "text/plain": [
       "'ushuaia'"
      ]
     },
     "execution_count": 45,
     "metadata": {},
     "output_type": "execute_result"
    }
   ],
   "source": [
    "#citypy documentation for ref\n",
    "city = citipy.nearest_city(-161.27553690072585, -25.120298028273737)\n",
    "city.city_name"
   ]
  },
  {
   "cell_type": "code",
   "execution_count": 44,
   "metadata": {},
   "outputs": [
    {
     "data": {
      "text/plain": [
       "(-161.27553690072585, -25.120298028273737)"
      ]
     },
     "execution_count": 44,
     "metadata": {},
     "output_type": "execute_result"
    }
   ],
   "source": [
    "#Setting up a random counter of cordinates \n",
    "from random import uniform\n",
    "x, y = uniform(-180,180), uniform(-90, 90)\n",
    "x, y"
   ]
  },
  {
   "cell_type": "code",
   "execution_count": 81,
   "metadata": {},
   "outputs": [],
   "source": [
    "#Loop gathering list of apx 500 cities \n",
    "list_cities = []\n",
    "for z in range (0, 2500):\n",
    "    x, y = uniform(-180,180), uniform(-90, 90)\n",
    "    city = citipy.nearest_city(x, y)\n",
    "    if city.city_name not in list_cities:\n",
    "        list_cities.append(city.city_name)\n",
    "        city = 0\n",
    "else:\n",
    "    city = 0\n",
    "#print(list_cities)"
   ]
  },
  {
   "cell_type": "code",
   "execution_count": 82,
   "metadata": {},
   "outputs": [
    {
     "data": {
      "text/plain": [
       "0      False\n",
       "1      False\n",
       "2      False\n",
       "3      False\n",
       "4      False\n",
       "5      False\n",
       "6      False\n",
       "7      False\n",
       "8      False\n",
       "9      False\n",
       "10     False\n",
       "11     False\n",
       "12     False\n",
       "13     False\n",
       "14     False\n",
       "15     False\n",
       "16     False\n",
       "17     False\n",
       "18     False\n",
       "19     False\n",
       "20     False\n",
       "21     False\n",
       "22     False\n",
       "23     False\n",
       "24     False\n",
       "25     False\n",
       "26     False\n",
       "27     False\n",
       "28     False\n",
       "29     False\n",
       "       ...  \n",
       "508    False\n",
       "509    False\n",
       "510    False\n",
       "511    False\n",
       "512    False\n",
       "513    False\n",
       "514    False\n",
       "515    False\n",
       "516    False\n",
       "517    False\n",
       "518    False\n",
       "519    False\n",
       "520    False\n",
       "521    False\n",
       "522    False\n",
       "523    False\n",
       "524    False\n",
       "525    False\n",
       "526    False\n",
       "527    False\n",
       "528    False\n",
       "529    False\n",
       "530    False\n",
       "531    False\n",
       "532    False\n",
       "533    False\n",
       "534    False\n",
       "535    False\n",
       "536    False\n",
       "537    False\n",
       "Name: Cities, Length: 538, dtype: bool"
      ]
     },
     "execution_count": 82,
     "metadata": {},
     "output_type": "execute_result"
    }
   ],
   "source": [
    "#converting to data frame, and checking for duplicates\n",
    "cities = pd.DataFrame({\"Cities\": list_cities})\n",
    "cities.Cities.duplicated()"
   ]
  },
  {
   "cell_type": "code",
   "execution_count": null,
   "metadata": {},
   "outputs": [],
   "source": [
    "\n",
    "\n"
   ]
  }
 ],
 "metadata": {
  "kernelspec": {
   "display_name": "Python 3",
   "language": "python",
   "name": "python3"
  },
  "language_info": {
   "codemirror_mode": {
    "name": "ipython",
    "version": 3
   },
   "file_extension": ".py",
   "mimetype": "text/x-python",
   "name": "python",
   "nbconvert_exporter": "python",
   "pygments_lexer": "ipython3",
   "version": "3.7.3"
  }
 },
 "nbformat": 4,
 "nbformat_minor": 2
}
